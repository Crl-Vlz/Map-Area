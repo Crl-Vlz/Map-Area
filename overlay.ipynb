{
 "cells": [
  {
   "cell_type": "code",
   "execution_count": 1,
   "metadata": {},
   "outputs": [
    {
     "name": "stdout",
     "output_type": "stream",
     "text": [
      "[(222.8048780487805, 222.8048780487805), (260.0000000000073, 187.3809523809455), (213.9622641509434, 231.22641509433961), (210.0, 235.0), (262.5, 185.0), (222.8048780487805, 222.8048780487805), (260.0000000000073, 187.3809523809455), (213.9622641509434, 231.22641509433961), (210.0, 235.0), (262.5, 185.0), (335.0000000000062, 210.00000000000213), (335.0000000000062, 210.00000000000213), (335.0, 272.5), (335.0, 272.5), (235.0, 285.0), (235.0, 285.0), (210.000000000005, 59.999999999995), (210.0, 110.0), (210.000000000005, 60.0000000000025), (210.000000000005, 59.999999999995), (210.0, 110.0), (210.000000000005, 60.0000000000025), (210.0, 60.0), (260.0000000000175, 85.00000000000875), (260.0, 85.0), (210.0, 60.0), (260.0000000000175, 85.00000000000875), (260.0, 85.0), (260.0000000000175, 84.99999999999125), (260.0000000000175, 84.99999999999125), (135.0, 135.0), (85.00000000001, 135.0), (135.0000000000075, 135.0), (135.0, 135.0), (85.00000000001, 135.0), (135.0000000000075, 135.0), (135.0000000000075, 134.9999999999925), (135.0000000000075, 135.0000000000075), (135.0000000000028, 181.87499999999824), (135.0000000000028, 181.87500000000176), (135.0, 210.0), (135.0000000000075, 134.9999999999925), (135.0000000000075, 135.0000000000075), (135.0000000000028, 181.87499999999824), (135.0000000000028, 181.87500000000176), (135.0, 210.0), (85.0, 235.0), (85.0, 235.0), (85.000000000005, 184.999999999995), (85.00000000000219, 213.1249999999986), (85.00000000000844, 150.6250000000053), (85.000000000005, 184.999999999995), (85.00000000000219, 213.1249999999986), (85.00000000000844, 150.6250000000053), (106.15384615384616, 163.84615384615384), (260.0, 260.0), (135.0, 181.875), (60.0, 135.0), (106.15384615384616, 163.84615384615384), (260.0, 260.0), (135.0, 181.875), (60.0, 135.0), (260.0, 10.0), (106.15384615384616, 106.15384615384616), (135.0, 88.125), (260.000000000025, 9.999999999984375), (260.0, 10.0), (106.15384615384616, 106.15384615384616), (135.0, 88.125), (260.000000000025, 9.999999999984375), (260.000000000025, 9.999999999975), (260.0, 260.0), (260.000000000025, 9.999999999975), (260.0, 260.0), (163.84615384615384, 106.15384615384616), (10.0, 10.0), (10.000000000025, 10.000000000015625), (210.0, 135.0), (163.84615384615384, 106.15384615384616), (10.0, 10.0), (10.000000000025, 10.000000000015625), (210.0, 135.0), (10.0, 260.0), (163.84615384615384, 163.84615384615384), (10.0, 260.0), (163.84615384615384, 163.84615384615384), (10.0, 260.0), (10.000000000025, 10.000000000025), (10.0, 260.0), (10.000000000025, 10.000000000025), (135.0, 135.0), (135.0, 135.0)]\n"
     ]
    }
   ],
   "source": [
    "from collections import defaultdict\n",
    "import Geometry as gm\n",
    "\n",
    "SCALE = 25\n",
    "DEVIATION = 10\n",
    "\n",
    "RED = (255, 0, 0)\n",
    "GREEN = (0, 255, 0)\n",
    "BLUE = (0, 0, 255)\n",
    "PURPLE = (255, 0, 255)\n",
    "CYAN = (0, 255, 255)\n",
    "YELLOW = (255, 255, 0)\n",
    "\n",
    "def def_value():\n",
    "    return None\n",
    "\n",
    "layers = []\n",
    "n = 5\n",
    "for i in range(n):\n",
    "    layers.append(gm.DCEL())\n",
    "    #Temporal dictionaries to store the half-edges while building the layer\n",
    "    edges = dict()\n",
    "    vertices = dict()\n",
    "    faces = dict()\n",
    "    #Reads input file\n",
    "    file_name = f\"inputs/layer0{i + 1}\"\n",
    "    \n",
    "    #Ignores overhead of the files\n",
    "    ari = open(file_name + \".aristas\").readlines()[4:]\n",
    "    vert = open(file_name + \".vertices\").readlines()[4:]\n",
    "    car = open(file_name + \".caras\").readlines()[4:]\n",
    "    \n",
    "    #Start building the layer from the vertices\n",
    "    for line in vert:\n",
    "        name, x, y, incident = line.split()\n",
    "        vertices[name] = gm.Vertex(float(x) * SCALE + DEVIATION, float(y)*SCALE + DEVIATION)\n",
    "        #We don't have half-edges so we don't add incident edge yet\n",
    "    #Start making the half-edges\n",
    "    for line in ari:\n",
    "        name, ori, twin, face, next, prev = line.split()\n",
    "        #Create based on origin point\n",
    "        edges[name] = gm.Half_Edge(vertices[ori])\n",
    "    #Add incident edges\n",
    "    for line in vert:\n",
    "        name, x, y, incident = line.split()\n",
    "        vertices[name].incident = incident\n",
    "        layers[i].add_vertex(vertices[name])\n",
    "    #Create the faces\n",
    "    for line in car:\n",
    "        name, internal, external = line.split()\n",
    "        internal = internal.replace(\"[\", \"\").replace(\"]\", \"\")\n",
    "        external = external.replace(\"[\", \"\").replace(\"]\", \"\")\n",
    "        icomp = []\n",
    "        if len(internal.split(\",\")) >= 2:\n",
    "            internal = internal.split(\",\")\n",
    "            for comp in internal:\n",
    "                icomp.append(edges[comp])\n",
    "        if internal == \"None\": internal = None\n",
    "        if external == \"None\": external = None\n",
    "        # Adds pointers to different cycles\n",
    "        if icomp:\n",
    "            faces[name] = gm.Face(external, icomp)\n",
    "        else:\n",
    "            faces[name] = gm.Face(external, internal)\n",
    "        layers[i].add_face(faces[name])\n",
    "    #Complete information about the half-edges\n",
    "    for line in ari:\n",
    "        name, ori, twin, face, next, prev = line.split()\n",
    "        #Create based on origin point\n",
    "        edges[name].twin = edges[twin]\n",
    "        edges[name].next = edges[next]\n",
    "        edges[name].prev = edges[prev]\n",
    "        edges[name].face = faces[face]\n",
    "        layers[i].add_half_edge(edges[name])\n",
    "    \n",
    "intersections = gm.calcIntersections(layers)"
   ]
  },
  {
   "cell_type": "code",
   "execution_count": 2,
   "metadata": {},
   "outputs": [
    {
     "name": "stdout",
     "output_type": "stream",
     "text": [
      "pygame 2.4.0 (SDL 2.26.4, Python 3.11.3)\n",
      "Hello from the pygame community. https://www.pygame.org/contribute.html\n"
     ]
    }
   ],
   "source": [
    "import pygame\n",
    "\n",
    "# Helper function to draw in pygame screen\n",
    "def draw_point(screen, vertex: gm.Vertex, color):\n",
    "    pygame.draw.circle(screen, color, vertex.coord, 2)\n",
    "\n",
    "def draw_edge(screen, edge: gm.Half_Edge, color):\n",
    "    pygame.draw.line(screen, color, edge.origin.coord, edge.twin.origin.coord)\n",
    "    \n",
    "def draw_layer(screen, layer: gm.DCEL, color):\n",
    "    edges = layer.half_edges\n",
    "    points = layer.vertices\n",
    "    #for point in points:\n",
    "        #draw_point(screen, point, (0, 0, 0))\n",
    "    for edge in edges:\n",
    "        draw_edge(screen, edge, (0, 0, 255))\n",
    "    for intersection in intersections:\n",
    "        pygame.draw.circle(screen, (0, 0, 0), (intersection.x,intersection.y), 2)"
   ]
  },
  {
   "cell_type": "code",
   "execution_count": 3,
   "metadata": {},
   "outputs": [
    {
     "ename": "error",
     "evalue": "video system not initialized",
     "output_type": "error",
     "traceback": [
      "\u001b[1;31m---------------------------------------------------------------------------\u001b[0m",
      "\u001b[1;31merror\u001b[0m                                     Traceback (most recent call last)",
      "Cell \u001b[1;32mIn[3], line 13\u001b[0m\n\u001b[0;32m     10\u001b[0m pygame\u001b[39m.\u001b[39mdisplay\u001b[39m.\u001b[39mupdate()\n\u001b[0;32m     12\u001b[0m \u001b[39mwhile\u001b[39;00m \u001b[39mTrue\u001b[39;00m:\n\u001b[1;32m---> 13\u001b[0m     \u001b[39mfor\u001b[39;00m event \u001b[39min\u001b[39;00m pygame\u001b[39m.\u001b[39;49mevent\u001b[39m.\u001b[39;49mget():\n\u001b[0;32m     14\u001b[0m         \u001b[39mif\u001b[39;00m event\u001b[39m.\u001b[39mtype \u001b[39m==\u001b[39m pygame\u001b[39m.\u001b[39mQUIT:\n\u001b[0;32m     15\u001b[0m             pygame\u001b[39m.\u001b[39mquit()\n",
      "\u001b[1;31merror\u001b[0m: video system not initialized"
     ]
    },
    {
     "ename": "",
     "evalue": "",
     "output_type": "error",
     "traceback": [
      "\u001b[1;31mThe Kernel crashed while executing code in the the current cell or a previous cell. Please review the code in the cell(s) to identify a possible cause of the failure. Click <a href='https://aka.ms/vscodeJupyterKernelCrash'>here</a> for more info. View Jupyter <a href='command:jupyter.viewOutput'>log</a> for further details."
     ]
    }
   ],
   "source": [
    "pygame.init()\n",
    "screen_width = 800\n",
    "screen_height = 600\n",
    "screen = pygame.display.set_mode((screen_width, screen_height))\n",
    "screen.fill((255, 255, 255))\n",
    "\n",
    "for layer in layers:\n",
    "    draw_layer(screen, layer, (255, 255, 255))\n",
    "\n",
    "pygame.display.update()\n",
    "\n",
    "while True:\n",
    "    for event in pygame.event.get():\n",
    "        if event.type == pygame.QUIT:\n",
    "            pygame.quit()\n",
    "            quit()\n"
   ]
  }
 ],
 "metadata": {
  "kernelspec": {
   "display_name": "Python 3",
   "language": "python",
   "name": "python3"
  },
  "language_info": {
   "codemirror_mode": {
    "name": "ipython",
    "version": 3
   },
   "file_extension": ".py",
   "mimetype": "text/x-python",
   "name": "python",
   "nbconvert_exporter": "python",
   "pygments_lexer": "ipython3",
   "version": "3.11.3"
  },
  "orig_nbformat": 4
 },
 "nbformat": 4,
 "nbformat_minor": 2
}
