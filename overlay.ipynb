{
 "cells": [
  {
   "cell_type": "code",
   "execution_count": 1,
   "metadata": {},
   "outputs": [
    {
     "name": "stdout",
     "output_type": "stream",
     "text": [
      "List of edges [Edge from (160.0, 260.0) to (159.99999999998312, 291.2499999999894), Edge from (160.0, 460.0) to (159.99999999999, 360.00000000001), Edge from (160.0, 460.0) to (260.0, 410.0), Edge from (260.0, 410.0) to (160.0, 460.0), Edge from (260.0, 410.0) to (260.0000000000056, 353.75000000000347), Edge from (260.0, 260.0) to (260.000000000015, 259.999999999985), Edge from (260.0, 260.0) to (260.0, 260.0), Edge from (160.0, 260.0) to (260.0, 260.0), Edge from (410.0, 210.0) to (510.000000000035, 159.9999999999825), Edge from (510.0, 160.0) to (510.000000000035, 159.9999999999825), Edge from (510.0, 160.0) to (510.000000000035, 160.0000000000175), Edge from (410.0, 110.0) to (410.0, 110.0), Edge from (410.0, 110.0) to (409.99999999999, 110.00000000001), Edge from (410.0, 210.0) to (409.99999999999, 110.00000000001), Edge from (410.0, 460.0) to (460.0, 560.0), Edge from (460.0, 560.0) to (410.0, 460.0), Edge from (460.0, 560.0) to (660.0, 535.0), Edge from (660.0, 535.0) to (460.0, 560.0), Edge from (660.0, 535.0) to (660.0, 410.0), Edge from (660.0, 410.0) to (660.0, 535.0), Edge from (660.0, 410.0) to (515.0, 360.0), Edge from (515.0, 360.0) to (660.0, 410.0), Edge from (515.0, 360.0) to (417.9245283018868, 452.45283018867923), Edge from (410.0, 460.0) to (435.609756097561, 435.609756097561), Edge from (435.609756097561, 435.609756097561) to (410.0, 460.0), Edge from (435.609756097561, 435.609756097561) to (510.0000000000146, 364.76190476189095), Edge from (435.609756097561, 435.609756097561) to (510.0, 510.0), Edge from (435.609756097561, 435.609756097561) to (260.000000000015, 260.000000000015), Edge from (510.0000000000146, 364.76190476189095) to (435.609756097561, 435.609756097561), Edge from (510.0000000000146, 364.76190476189095) to (417.9245283018868, 452.45283018867923), Edge from (510.0000000000146, 364.76190476189095) to (510.0, 10.0), Edge from (510.0000000000146, 364.76190476189095) to (510.000000000035, 160.0000000000175), Edge from (417.9245283018868, 452.45283018867923) to (510.0000000000146, 364.76190476189095), Edge from (417.9245283018868, 452.45283018867923) to (515.0, 360.0), Edge from (417.9245283018868, 452.45283018867923) to (510.0, 510.0), Edge from (417.9245283018868, 452.45283018867923) to (260.0000000000056, 353.75000000000347), Edge from (409.99999999999, 110.00000000001) to (410.0, 210.0), Edge from (409.99999999999, 110.00000000001) to (410.0, 110.0), Edge from (409.99999999999, 110.00000000001) to (510.0, 10.0), Edge from (409.99999999999, 110.00000000001) to (410.0, 110.0), Edge from (410.0, 110.0) to (410.0, 110.0), Edge from (410.0, 110.0) to (510.000000000035, 160.0000000000175), Edge from (410.0, 110.0) to (409.99999999999, 110.00000000001), Edge from (410.0, 110.0) to (260.0, 260.0), Edge from (510.000000000035, 160.0000000000175) to (410.0, 110.0), Edge from (510.000000000035, 160.0000000000175) to (510.0, 160.0), Edge from (510.000000000035, 160.0000000000175) to (510.0000000000146, 364.76190476189095), Edge from (510.000000000035, 160.0000000000175) to (510.000000000035, 159.9999999999825), Edge from (510.000000000035, 159.9999999999825) to (510.0, 160.0), Edge from (510.000000000035, 159.9999999999825) to (410.0, 210.0), Edge from (510.000000000035, 159.9999999999825) to (510.000000000035, 160.0000000000175), Edge from (510.000000000035, 159.9999999999825) to (510.00000000005, 9.99999999995), Edge from (260.0, 260.0) to (160.0, 260.0), Edge from (260.0, 260.0) to (260.0, 260.0), Edge from (260.0, 260.0) to (410.0, 110.0), Edge from (260.0, 260.0) to (260.000000000015, 259.999999999985), Edge from (260.000000000015, 259.999999999985) to (260.0, 260.0), Edge from (260.000000000015, 259.999999999985) to (260.000000000015, 260.000000000015), Edge from (260.000000000015, 259.999999999985) to (260.0, 260.0), Edge from (260.000000000015, 259.999999999985) to (159.99999999999, 360.00000000001), Edge from (260.000000000015, 260.000000000015) to (260.000000000015, 259.999999999985), Edge from (260.000000000015, 260.000000000015) to (260.0000000000056, 353.74999999999653), Edge from (260.000000000015, 260.000000000015) to (435.609756097561, 435.609756097561), Edge from (260.000000000015, 260.000000000015) to (510.0, 510.0), Edge from (260.0000000000056, 353.74999999999653) to (260.000000000015, 260.000000000015), Edge from (260.0000000000056, 353.74999999999653) to (260.0000000000056, 353.75000000000347), Edge from (260.0000000000056, 353.74999999999653) to (410.0, 260.0), Edge from (260.0000000000056, 353.74999999999653) to (159.99999999999562, 416.25000000000273), Edge from (260.0000000000056, 353.75000000000347) to (260.0000000000056, 353.74999999999653), Edge from (260.0000000000056, 353.75000000000347) to (260.0, 410.0), Edge from (260.0000000000056, 353.75000000000347) to (417.9245283018868, 452.45283018867923), Edge from (260.0000000000056, 353.75000000000347) to (159.99999999998312, 291.2499999999894), Edge from (159.99999999999, 360.00000000001) to (160.0, 460.0), Edge from (159.99999999999, 360.00000000001) to (159.99999999999562, 416.25000000000273), Edge from (159.99999999999, 360.00000000001) to (260.000000000015, 259.999999999985), Edge from (159.99999999999, 360.00000000001) to (202.30769230769232, 317.6923076923077), Edge from (159.99999999999562, 416.25000000000273) to (159.99999999999, 360.00000000001), Edge from (159.99999999999562, 416.25000000000273) to (159.99999999998312, 291.2499999999894), Edge from (159.99999999999562, 416.25000000000273) to (260.0000000000056, 353.74999999999653), Edge from (159.99999999999562, 416.25000000000273) to (260.0, 353.75), Edge from (159.99999999998312, 291.2499999999894) to (159.99999999999562, 416.25000000000273), Edge from (159.99999999998312, 291.2499999999894) to (160.0, 260.0), Edge from (159.99999999998312, 291.2499999999894) to (260.0000000000056, 353.75000000000347), Edge from (159.99999999998312, 291.2499999999894) to (202.30769230769232, 317.6923076923077), Edge from (202.30769230769232, 317.6923076923077) to (159.99999999998312, 291.2499999999894), Edge from (202.30769230769232, 317.6923076923077) to (510.0, 510.0), Edge from (202.30769230769232, 317.6923076923077) to (159.99999999999, 360.00000000001), Edge from (202.30769230769232, 317.6923076923077) to (510.0, 10.0), Edge from (510.0, 510.0) to (202.30769230769232, 317.6923076923077), Edge from (510.0, 510.0) to (260.0, 353.75), Edge from (510.0, 510.0) to (260.000000000015, 260.000000000015), Edge from (510.0, 510.0) to (202.30769230769232, 202.30769230769232), Edge from (260.0, 353.75) to (510.0, 510.0), Edge from (260.0, 353.75) to (110.0, 260.0), Edge from (260.0, 353.75) to (159.99999999999562, 416.25000000000273), Edge from (260.0, 353.75) to (10.0, 510.0), Edge from (510.0, 10.0) to (110.0, 260.0), Edge from (510.0, 10.0) to (202.30769230769232, 202.30769230769232), Edge from (510.0, 10.0) to (202.30769230769232, 317.6923076923077), Edge from (510.0, 10.0) to (510.00000000005, 9.99999999995), Edge from (202.30769230769232, 202.30769230769232) to (510.0, 10.0), Edge from (202.30769230769232, 202.30769230769232) to (260.0, 166.25), Edge from (202.30769230769232, 202.30769230769232) to (510.0, 510.0), Edge from (202.30769230769232, 202.30769230769232) to (10.0, 10.0), Edge from (260.0, 166.25) to (202.30769230769232, 202.30769230769232), Edge from (260.0, 166.25) to (510.0, 10.0), Edge from (260.0, 166.25) to (10.0, 10.0), Edge from (260.0, 166.25) to (317.6923076923077, 202.30769230769232), Edge from (510.00000000005, 9.99999999995) to (510.000000000035, 159.9999999999825), Edge from (510.00000000005, 9.99999999995) to (510.0, 510.0), Edge from (510.00000000005, 9.99999999995) to (510.0, 10.0), Edge from (510.00000000005, 9.99999999995) to (317.6923076923077, 202.30769230769232), Edge from (317.6923076923077, 202.30769230769232) to (260.0, 166.25), Edge from (317.6923076923077, 202.30769230769232) to (10.0, 10.0), Edge from (317.6923076923077, 202.30769230769232) to (510.00000000005, 9.99999999995), Edge from (317.6923076923077, 202.30769230769232) to (10.0, 510.0), Edge from (10.0, 10.0) to (317.6923076923077, 202.30769230769232), Edge from (10.0, 10.0) to (410.0, 260.0), Edge from (10.0, 10.0) to (202.30769230769232, 202.30769230769232), Edge from (10.0, 10.0) to (317.6923076923077, 317.6923076923077), Edge from (10.0, 510.0) to (260.0, 353.75), Edge from (10.0, 510.0) to (317.6923076923077, 317.6923076923077), Edge from (10.0, 510.0) to (317.6923076923077, 202.30769230769232), Edge from (10.0, 510.0) to (10.0, 510.0), Edge from (317.6923076923077, 317.6923076923077) to (10.0, 510.0), Edge from (317.6923076923077, 317.6923076923077) to (10.0, 510.0), Edge from (317.6923076923077, 317.6923076923077) to (10.0, 10.0), Edge from (317.6923076923077, 317.6923076923077) to (9.99999999995, 9.99999999995), Edge from (9.99999999995, 9.99999999995) to (10.0, 510.0), Edge from (9.99999999995, 9.99999999995) to (10.0, 10.0), Edge from (9.99999999995, 9.99999999995) to (317.6923076923077, 317.6923076923077), Edge from (9.99999999995, 9.99999999995) to (10.0, 10.0)]\n"
     ]
    }
   ],
   "source": [
    "import Geometry as gm\n",
    "\n",
    "SCALE = 50\n",
    "DEVIATION = 10\n",
    "\n",
    "WHITE = (255, 255, 255)\n",
    "RED = (255, 0, 0)\n",
    "GREEN = (0, 255, 0)\n",
    "BLUE = (0, 0, 255)\n",
    "PURPLE = (255, 0, 255)\n",
    "CYAN = (0, 255, 255)\n",
    "YELLOW = (255, 255, 0)\n",
    "BLACK = (0, 0, 0)\n",
    "\n",
    "def def_value():\n",
    "    return None\n",
    "\n",
    "layers = []\n",
    "n = 5\n",
    "for i in range(n):\n",
    "    layers.append(gm.DCEL())\n",
    "    #Temporal dictionaries to store the half-edges while building the layer\n",
    "    edges = dict()\n",
    "    vertices = dict()\n",
    "    faces = dict()\n",
    "    #Reads input file\n",
    "    file_name = f\"inputs/layer0{i + 1}\"\n",
    "    \n",
    "    #Ignores overhead of the files\n",
    "    ari = open(file_name + \".aristas\").readlines()[4:]\n",
    "    vert = open(file_name + \".vertices\").readlines()[4:]\n",
    "    car = open(file_name + \".caras\").readlines()[4:]\n",
    "    \n",
    "    #Start building the layer from the vertices\n",
    "    for line in vert:\n",
    "        name, x, y, incident = line.split()\n",
    "        vertices[name] = gm.Vertex(float(x) * SCALE + DEVIATION, float(y)*SCALE + DEVIATION)\n",
    "        #We don't have half-edges so we don't add incident edge yet\n",
    "    #Start making the half-edges\n",
    "    for line in ari:\n",
    "        name, ori, twin, face, next, prev = line.split()\n",
    "        #Create based on origin point\n",
    "        edges[name] = gm.Half_Edge(vertices[ori], layer=i+1)\n",
    "    #Add incident edges\n",
    "    for line in vert:\n",
    "        name, x, y, incident = line.split()\n",
    "        vertices[name].incident = incident\n",
    "        layers[i].add_vertex(vertices[name])\n",
    "    #Create the faces\n",
    "    for line in car:\n",
    "        name, internal, external = line.split()\n",
    "        internal = internal.replace(\"[\", \"\").replace(\"]\", \"\")\n",
    "        external = external.replace(\"[\", \"\").replace(\"]\", \"\")\n",
    "        icomp = []\n",
    "        if len(internal.split(\",\")) >= 2:\n",
    "            internal = internal.split(\",\")\n",
    "            for comp in internal:\n",
    "                icomp.append(edges[comp])\n",
    "        if internal == \"None\": internal = None\n",
    "        if external == \"None\": external = None\n",
    "        # Adds pointers to different cycles\n",
    "        if icomp:\n",
    "            faces[name] = gm.Face(external, icomp)\n",
    "        else:\n",
    "            faces[name] = gm.Face(external, internal)\n",
    "        layers[i].add_face(faces[name])\n",
    "    #Complete information about the half-edges\n",
    "    for line in ari:\n",
    "        name, ori, twin, face, next, prev = line.split()\n",
    "        #Create based on origin point\n",
    "        edges[name].twin = edges[twin]\n",
    "        edges[name].next = edges[next]\n",
    "        edges[name].prev = edges[prev]\n",
    "        edges[name].face = faces[face]\n",
    "        layers[i].add_half_edge(edges[name])\n",
    "    \n",
    "#for layer in layers:\n",
    "#    print(layer)\n",
    "    \n",
    "intersections = gm.calcIntersections(layers)\n",
    "\n",
    "area = gm.DCEL().overlay(layers, intersections)\n",
    "    \n",
    "print(area)"
   ]
  },
  {
   "cell_type": "code",
   "execution_count": 2,
   "metadata": {},
   "outputs": [
    {
     "name": "stdout",
     "output_type": "stream",
     "text": [
      "pygame 2.3.0 (SDL 2.24.2, Python 3.10.6)\n",
      "Hello from the pygame community. https://www.pygame.org/contribute.html\n"
     ]
    }
   ],
   "source": [
    "import pygame\n",
    "\n",
    "# Helper function to draw in pygame screen\n",
    "def draw_point(screen, vertex: gm.Vertex, color):\n",
    "    pygame.draw.circle(screen, color, vertex.coord, 2)\n",
    "\n",
    "def draw_edge(screen, edge: gm.Half_Edge, color):\n",
    "    pygame.draw.line(screen, color, edge.origin.coord, edge.twin.origin.coord)\n",
    "    \n",
    "def draw_layer(screen, layer: gm.DCEL, color):\n",
    "    edges = layer.half_edges\n",
    "    for edge in edges:\n",
    "        draw_edge(screen, edge, color)\n",
    "    for intersection in intersections:\n",
    "        pygame.draw.circle(screen, BLACK, (intersection.x,intersection.y), 2)"
   ]
  },
  {
   "cell_type": "code",
   "execution_count": 3,
   "metadata": {},
   "outputs": [
    {
     "ename": "error",
     "evalue": "video system not initialized",
     "output_type": "error",
     "traceback": [
      "\u001b[1;31m---------------------------------------------------------------------------\u001b[0m",
      "\u001b[1;31merror\u001b[0m                                     Traceback (most recent call last)",
      "\u001b[1;32mc:\\Users\\crlvl\\Documents\\CompGeo\\DCEL\\overlay.ipynb Cell 3\u001b[0m in \u001b[0;36m<cell line: 12>\u001b[1;34m()\u001b[0m\n\u001b[0;32m     <a href='vscode-notebook-cell:/c%3A/Users/crlvl/Documents/CompGeo/DCEL/overlay.ipynb#W2sZmlsZQ%3D%3D?line=9'>10</a>\u001b[0m pygame\u001b[39m.\u001b[39mdisplay\u001b[39m.\u001b[39mupdate()\n\u001b[0;32m     <a href='vscode-notebook-cell:/c%3A/Users/crlvl/Documents/CompGeo/DCEL/overlay.ipynb#W2sZmlsZQ%3D%3D?line=11'>12</a>\u001b[0m \u001b[39mwhile\u001b[39;00m \u001b[39mTrue\u001b[39;00m:\n\u001b[1;32m---> <a href='vscode-notebook-cell:/c%3A/Users/crlvl/Documents/CompGeo/DCEL/overlay.ipynb#W2sZmlsZQ%3D%3D?line=12'>13</a>\u001b[0m     \u001b[39mfor\u001b[39;00m event \u001b[39min\u001b[39;00m pygame\u001b[39m.\u001b[39;49mevent\u001b[39m.\u001b[39;49mget():\n\u001b[0;32m     <a href='vscode-notebook-cell:/c%3A/Users/crlvl/Documents/CompGeo/DCEL/overlay.ipynb#W2sZmlsZQ%3D%3D?line=13'>14</a>\u001b[0m         \u001b[39mif\u001b[39;00m event\u001b[39m.\u001b[39mtype \u001b[39m==\u001b[39m pygame\u001b[39m.\u001b[39mQUIT:\n\u001b[0;32m     <a href='vscode-notebook-cell:/c%3A/Users/crlvl/Documents/CompGeo/DCEL/overlay.ipynb#W2sZmlsZQ%3D%3D?line=14'>15</a>\u001b[0m             pygame\u001b[39m.\u001b[39mquit()\n",
      "\u001b[1;31merror\u001b[0m: video system not initialized"
     ]
    },
    {
     "ename": "",
     "evalue": "",
     "output_type": "error",
     "traceback": [
      "\u001b[1;31mThe Kernel crashed while executing code in the the current cell or a previous cell. Please review the code in the cell(s) to identify a possible cause of the failure. Click <a href='https://aka.ms/vscodeJupyterKernelCrash'>here</a> for more info. View Jupyter <a href='command:jupyter.viewOutput'>log</a> for further details."
     ]
    }
   ],
   "source": [
    "pygame.init()\n",
    "screen_width = 800\n",
    "screen_height = 600\n",
    "screen = pygame.display.set_mode((screen_width, screen_height))\n",
    "screen.fill(WHITE)\n",
    "\n",
    "draw_layer(screen, area, BLUE)\n",
    "\n",
    "pygame.display.update()\n",
    "\n",
    "while True:\n",
    "    for event in pygame.event.get():\n",
    "        if event.type == pygame.QUIT:\n",
    "            pygame.quit()\n",
    "            quit()\n"
   ]
  }
 ],
 "metadata": {
  "kernelspec": {
   "display_name": "Python 3",
   "language": "python",
   "name": "python3"
  },
  "language_info": {
   "codemirror_mode": {
    "name": "ipython",
    "version": 3
   },
   "file_extension": ".py",
   "mimetype": "text/x-python",
   "name": "python",
   "nbconvert_exporter": "python",
   "pygments_lexer": "ipython3",
   "version": "3.10.6"
  },
  "orig_nbformat": 4
 },
 "nbformat": 4,
 "nbformat_minor": 2
}
